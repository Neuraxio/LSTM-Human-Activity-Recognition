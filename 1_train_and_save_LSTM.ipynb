{
 "cells": [
  {
   "cell_type": "markdown",
   "metadata": {},
   "source": [
    "# Imports"
   ]
  },
  {
   "cell_type": "code",
   "execution_count": 1,
   "metadata": {},
   "outputs": [],
   "source": [
    "import math\n",
    "import os\n",
    "import numpy as np\n",
    "import tensorflow as tf\n",
    "\n",
    "from neuraxle.api.flask import FlaskRestApiWrapper\n",
    "from neuraxle.base import ExecutionContext, DEFAULT_CACHE_FOLDER, ExecutionMode, BaseStep\n",
    "from neuraxle.data_container import DataContainer\n",
    "from neuraxle.hyperparams.space import HyperparameterSamples\n",
    "from neuraxle.steps.numpy import OneHotEncoder\n",
    "from neuraxle.pipeline import MiniBatchSequentialPipeline, Joiner\n",
    "from neuraxle.steps.output_handlers import OutputTransformerWrapper\n",
    "from neuraxle_tensorflow.tensorflow_v1 import TensorflowV1ModelStep\n",
    "\n",
    "from steps.custom_json_decoder_for_2darray import CustomJSONDecoderFor2DArray\n",
    "from steps.custom_json_encoder_of_outputs import CustomJSONEncoderOfOutputs\n",
    "\n",
    "from data_reading import DATASET_PATH, TRAIN, TEST, X_train_signals_paths, load_X, load_y, \\\n",
    "    TRAIN_FILE_NAME, TEST_FILE_NAME"
   ]
  },
  {
   "cell_type": "markdown",
   "metadata": {},
   "source": [
    "# Download Data"
   ]
  },
  {
   "cell_type": "code",
   "execution_count": 2,
   "metadata": {},
   "outputs": [
    {
     "name": "stdout",
     "output_type": "stream",
     "text": [
      "/home/alexandre/Documents/LSTM-Human-Activity-Recognition\n",
      "1_train_and_save_LSTM.ipynb\tdata_reading.py      pipeline.py       steps\n",
      "2_call_rest_api_and_eval.ipynb\tLICENSE\t\t     __pycache__       venv\n",
      "cache\t\t\t\tmodel.py\t     README.md\n",
      "data\t\t\t\tneuraxle_tensorflow  requirements.txt\n",
      "/home/alexandre/Documents/LSTM-Human-Activity-Recognition/data\n",
      " download_dataset.py   source.txt\t 'UCI HAR Dataset.zip'\n",
      " __MACOSX\t      'UCI HAR Dataset'\n",
      "\n",
      "Downloading...\n",
      "Dataset already downloaded. Did not download twice.\n",
      "\n",
      "Extracting...\n",
      "Dataset already extracted. Did not extract twice.\n",
      "\n",
      "/home/alexandre/Documents/LSTM-Human-Activity-Recognition/data\n",
      " download_dataset.py   source.txt\t 'UCI HAR Dataset.zip'\n",
      " __MACOSX\t      'UCI HAR Dataset'\n",
      "/home/alexandre/Documents/LSTM-Human-Activity-Recognition\n",
      "1_train_and_save_LSTM.ipynb\tdata_reading.py      pipeline.py       steps\n",
      "2_call_rest_api_and_eval.ipynb\tLICENSE\t\t     __pycache__       venv\n",
      "cache\t\t\t\tmodel.py\t     README.md\n",
      "data\t\t\t\tneuraxle_tensorflow  requirements.txt\n",
      "\n",
      "Dataset is now located at: data/UCI HAR Dataset/\n"
     ]
    }
   ],
   "source": [
    "# Note: Linux bash commands start with a \"!\" inside those \"ipython notebook\" cells\n",
    "\n",
    "DATA_PATH = \"data/\"\n",
    "\n",
    "!pwd && ls\n",
    "os.chdir(DATA_PATH)\n",
    "!pwd && ls\n",
    "\n",
    "!python download_dataset.py\n",
    "\n",
    "!pwd && ls\n",
    "os.chdir(\"..\")\n",
    "!pwd && ls\n",
    "\n",
    "DATASET_PATH = DATA_PATH + \"UCI HAR Dataset/\"\n",
    "print(\"\\n\" + \"Dataset is now located at: \" + DATASET_PATH)"
   ]
  },
  {
   "cell_type": "markdown",
   "metadata": {},
   "source": [
    "# Load data"
   ]
  },
  {
   "cell_type": "code",
   "execution_count": 3,
   "metadata": {},
   "outputs": [
    {
     "name": "stdout",
     "output_type": "stream",
     "text": [
      "Some useful info to get an insight on dataset's shape and normalisation:\n",
      "(X shape, y shape, every X's mean, every X's standard deviation)\n",
      "(7352, 128, 9) (7352, 1) 0.10206611 0.40216514\n",
      "The dataset is therefore properly normalised, as expected, but not yet one-hot encoded.\n"
     ]
    }
   ],
   "source": [
    "# Load \"X\" (the neural network's training and testing inputs)\n",
    "\n",
    "X_train = load_X(X_train_signals_paths)\n",
    "# X_test = load_X(X_test_signals_paths)\n",
    "\n",
    "# Load \"y\" (the neural network's training and testing outputs)\n",
    "\n",
    "y_train_path = os.path.join(DATASET_PATH, TRAIN, TRAIN_FILE_NAME)\n",
    "# y_test_path = os.path.join(DATASET_PATH, TEST, TEST_FILE_NAME)\n",
    "\n",
    "y_train = load_y(y_train_path)\n",
    "# y_test = load_y(y_test_path)\n",
    "\n",
    "print(\"Some useful info to get an insight on dataset's shape and normalisation:\")\n",
    "print(\"(X shape, y shape, every X's mean, every X's standard deviation)\")\n",
    "print(X_train.shape, y_train.shape, np.mean(X_train), np.std(X_train))\n",
    "print(\"The dataset is therefore properly normalised, as expected, but not yet one-hot encoded.\")"
   ]
  },
  {
   "cell_type": "markdown",
   "metadata": {},
   "source": [
    "# Create LSTM RNN Tensorflow Graph"
   ]
  },
  {
   "cell_type": "code",
   "execution_count": 4,
   "metadata": {},
   "outputs": [],
   "source": [
    "def create_graph(step: TensorflowV1ModelStep):\n",
    "    # Function returns a tensorflow LSTM (RNN) artificial neural network from given parameters.\n",
    "    # Moreover, two LSTM cells are stacked which adds deepness to the neural network.\n",
    "    # Note, some code of this notebook is inspired from an slightly different\n",
    "    # RNN architecture used on another dataset, some of the credits goes to\n",
    "    # \"aymericdamien\" under the MIT license.\n",
    "    # (NOTE: This step could be greatly optimised by shaping the dataset once\n",
    "    # input shape: (batch_size, n_steps, n_input)\n",
    "\n",
    "    # Graph input/output\n",
    "    data_inputs = tf.placeholder(tf.float32, [None, step.hyperparams['n_steps'], step.hyperparams['n_inputs']],\n",
    "                                 name='data_inputs')\n",
    "    expected_outputs = tf.placeholder(tf.float32, [None, step.hyperparams['n_classes']], name='expected_outputs')\n",
    "\n",
    "    # Graph weights\n",
    "    weights = {\n",
    "        'hidden': tf.Variable(\n",
    "            tf.random_normal([step.hyperparams['n_inputs'], step.hyperparams['n_hidden']])\n",
    "        ),  # Hidden layer weights\n",
    "        'out': tf.Variable(\n",
    "            tf.random_normal([step.hyperparams['n_hidden'], step.hyperparams['n_classes']], mean=1.0)\n",
    "        )\n",
    "    }\n",
    "\n",
    "    biases = {\n",
    "        'hidden': tf.Variable(\n",
    "            tf.random_normal([step.hyperparams['n_hidden']])\n",
    "        ),\n",
    "        'out': tf.Variable(\n",
    "            tf.random_normal([step.hyperparams['n_classes']])\n",
    "        )\n",
    "    }\n",
    "\n",
    "    data_inputs = tf.transpose(\n",
    "        data_inputs,\n",
    "        [1, 0, 2])  # permute n_steps and batch_size\n",
    "\n",
    "    # Reshape to prepare input to hidden activation\n",
    "    data_inputs = tf.reshape(data_inputs, [-1, step.hyperparams['n_inputs']])\n",
    "    # new shape: (n_steps*batch_size, n_input)\n",
    "\n",
    "    # ReLU activation, thanks to Yu Zhao for adding this improvement here:\n",
    "    _X = tf.nn.relu(\n",
    "        tf.matmul(data_inputs, weights['hidden']) + biases['hidden']\n",
    "    )\n",
    "\n",
    "    # Split data because rnn cell needs a list of inputs for the RNN inner loop\n",
    "    _X = tf.split(_X, step.hyperparams['n_steps'], 0)\n",
    "    # new shape: n_steps * (batch_size, n_hidden)\n",
    "\n",
    "    # Define two stacked LSTM cells (two recurrent layers deep) with tensorflow\n",
    "    lstm_cell_1 = tf.contrib.rnn.BasicLSTMCell(step.hyperparams['n_hidden'], forget_bias=1.0, state_is_tuple=True)\n",
    "    lstm_cell_2 = tf.contrib.rnn.BasicLSTMCell(step.hyperparams['n_hidden'], forget_bias=1.0, state_is_tuple=True)\n",
    "    lstm_cells = tf.contrib.rnn.MultiRNNCell([lstm_cell_1, lstm_cell_2], state_is_tuple=True)\n",
    "\n",
    "    # Get LSTM cell output\n",
    "    outputs, states = tf.contrib.rnn.static_rnn(lstm_cells, _X, dtype=tf.float32)\n",
    "\n",
    "    # Get last time step's output feature for a \"many-to-one\" style classifier,\n",
    "    # as in the image describing RNNs at the top of this page\n",
    "    lstm_last_output = outputs[-1]\n",
    "\n",
    "    # Linear activation\n",
    "    return tf.matmul(lstm_last_output, weights['out']) + biases['out']"
   ]
  },
  {
   "cell_type": "markdown",
   "metadata": {},
   "source": [
    "# Create Optimizer"
   ]
  },
  {
   "cell_type": "code",
   "execution_count": 5,
   "metadata": {},
   "outputs": [],
   "source": [
    "def create_optimizer(step: TensorflowV1ModelStep):\n",
    "    return tf.train.AdamOptimizer(learning_rate=step.hyperparams['learning_rate'])"
   ]
  },
  {
   "cell_type": "markdown",
   "metadata": {},
   "source": [
    "# Create Loss"
   ]
  },
  {
   "cell_type": "code",
   "execution_count": 6,
   "metadata": {},
   "outputs": [],
   "source": [
    "def create_loss(step: TensorflowV1ModelStep):\n",
    "    # Loss, optimizer and evaluation\n",
    "    # L2 loss prevents this overkill neural network to overfit the data\n",
    "    l2 = step.hyperparams['lambda_loss_amount'] * sum(tf.nn.l2_loss(tf_var) for tf_var in tf.trainable_variables())\n",
    "\n",
    "    # Softmax loss\n",
    "    return tf.reduce_mean(\n",
    "        tf.nn.softmax_cross_entropy_with_logits(\n",
    "            labels=step['expected_outputs'],\n",
    "            logits=step['output']\n",
    "        )\n",
    "    ) + l2"
   ]
  },
  {
   "cell_type": "markdown",
   "metadata": {},
   "source": [
    "# Create TensorflowV1ModelStep "
   ]
  },
  {
   "cell_type": "code",
   "execution_count": 7,
   "metadata": {},
   "outputs": [],
   "source": [
    "class ClassificationRNNTensorFlowModel(TensorflowV1ModelStep):\n",
    "    def setup(self) -> BaseStep:\n",
    "        TensorflowV1ModelStep.setup(self)\n",
    "\n",
    "        self.losses = []\n",
    "        self.accuracies = []\n",
    "\n",
    "        return self\n",
    "\n",
    "    def _will_process(self, data_container: DataContainer, context: ExecutionContext) -> ('BaseStep', DataContainer):\n",
    "        if not isinstance(data_container.data_inputs, np.ndarray):\n",
    "            data_container.data_inputs = np.array(data_container.data_inputs)\n",
    "\n",
    "        if data_container.expected_outputs is not None:\n",
    "            if not isinstance(data_container.expected_outputs, np.ndarray):\n",
    "                data_container.expected_outputs = np.array(data_container.expected_outputs)\n",
    "\n",
    "            if data_container.expected_outputs.shape != (len(data_container.data_inputs), self.hyperparams['n_classes']):\n",
    "                data_container.expected_outputs = np.reshape(data_container.expected_outputs, (len(data_container.data_inputs), self.hyperparams['n_classes']))\n",
    "\n",
    "        return data_container, context\n",
    "\n",
    "    def _did_fit_transform(self, data_container: DataContainer, context: ExecutionContext) -> DataContainer:\n",
    "        accuracy = np.mean(np.argmax(data_container.data_inputs, axis=1) == np.argmax(data_container.expected_outputs, axis=1))\n",
    "\n",
    "        self.accuracies.append(accuracy)\n",
    "        self.losses.append(self.loss)\n",
    "\n",
    "        print(\"Batch Loss = \" + \"{:.6f}\".format(self.losses[-1]) + \", Accuracy = {}\".format(self.accuracies[-1]))\n",
    "\n",
    "        return data_container"
   ]
  },
  {
   "cell_type": "markdown",
   "metadata": {},
   "source": [
    "# Neuraxle Pipeline "
   ]
  },
  {
   "cell_type": "code",
   "execution_count": 8,
   "metadata": {},
   "outputs": [],
   "source": [
    "N_HIDDEN = 32\n",
    "N_STEPS = 128\n",
    "N_INPUTS = 9\n",
    "LAMBDA_LOSS_AMOUNT = 0.0015\n",
    "LEARNING_RATE = 0.0025\n",
    "N_CLASSES = 6\n",
    "BATCH_SIZE = 1500\n",
    "\n",
    "\n",
    "class HumanActivityRecognitionPipeline(MiniBatchSequentialPipeline):\n",
    "    def __init__(self):\n",
    "        MiniBatchSequentialPipeline.__init__(self, [\n",
    "            OutputTransformerWrapper(OneHotEncoder(nb_columns=N_CLASSES, name='one_hot_encoded_label')),\n",
    "            ClassificationRNNTensorFlowModel(\n",
    "                create_graph=create_graph,\n",
    "                create_loss=create_loss,\n",
    "                create_optimizer=create_optimizer\n",
    "            ).set_hyperparams(\n",
    "                HyperparameterSamples({\n",
    "                    'n_steps': N_STEPS,\n",
    "                    'n_inputs': N_INPUTS, \n",
    "                    'n_hidden': N_HIDDEN,\n",
    "                    'n_classes': N_CLASSES,\n",
    "                    'learning_rate': LEARNING_RATE,\n",
    "                    'lambda_loss_amount': LAMBDA_LOSS_AMOUNT,\n",
    "                    'batch_size': BATCH_SIZE\n",
    "                })\n",
    "            ),\n",
    "            Joiner(batch_size=BATCH_SIZE)\n",
    "        ])"
   ]
  },
  {
   "cell_type": "markdown",
   "metadata": {},
   "source": [
    "# Train Pipeline "
   ]
  },
  {
   "cell_type": "code",
   "execution_count": 9,
   "metadata": {
    "scrolled": false
   },
   "outputs": [
    {
     "name": "stdout",
     "output_type": "stream",
     "text": [
      "WARNING:tensorflow:From /home/alexandre/Documents/LSTM-Human-Activity-Recognition/neuraxle_tensorflow/tensorflow_v1.py:73: The name tf.variable_scope is deprecated. Please use tf.compat.v1.variable_scope instead.\n",
      "\n",
      "WARNING:tensorflow:From /home/alexandre/Documents/LSTM-Human-Activity-Recognition/neuraxle_tensorflow/tensorflow_v1.py:73: The name tf.AUTO_REUSE is deprecated. Please use tf.compat.v1.AUTO_REUSE instead.\n",
      "\n",
      "WARNING:tensorflow:From /home/alexandre/Documents/LSTM-Human-Activity-Recognition/neuraxle_tensorflow/tensorflow_v1.py:74: The name tf.Session is deprecated. Please use tf.compat.v1.Session instead.\n",
      "\n",
      "WARNING:tensorflow:From /home/alexandre/Documents/LSTM-Human-Activity-Recognition/neuraxle_tensorflow/tensorflow_v1.py:74: The name tf.ConfigProto is deprecated. Please use tf.compat.v1.ConfigProto instead.\n",
      "\n",
      "Device mapping:\n",
      "/job:localhost/replica:0/task:0/device:XLA_CPU:0 -> device: XLA_CPU device\n",
      "/job:localhost/replica:0/task:0/device:XLA_GPU:0 -> device: XLA_GPU device\n",
      "\n",
      "WARNING:tensorflow:\n",
      "The TensorFlow contrib module will not be included in TensorFlow 2.0.\n",
      "For more information, please see:\n",
      "  * https://github.com/tensorflow/community/blob/master/rfcs/20180907-contrib-sunset.md\n",
      "  * https://github.com/tensorflow/addons\n",
      "  * https://github.com/tensorflow/io (for I/O related ops)\n",
      "If you depend on functionality not listed there, please file an issue.\n",
      "\n",
      "WARNING:tensorflow:From <ipython-input-4-ba33038200aa>:52: BasicLSTMCell.__init__ (from tensorflow.python.ops.rnn_cell_impl) is deprecated and will be removed in a future version.\n",
      "Instructions for updating:\n",
      "This class is equivalent as tf.keras.layers.LSTMCell, and will be replaced by that in Tensorflow 2.0.\n",
      "WARNING:tensorflow:From <ipython-input-4-ba33038200aa>:54: MultiRNNCell.__init__ (from tensorflow.python.ops.rnn_cell_impl) is deprecated and will be removed in a future version.\n",
      "Instructions for updating:\n",
      "This class is equivalent as tf.keras.layers.StackedRNNCells, and will be replaced by that in Tensorflow 2.0.\n",
      "WARNING:tensorflow:From <ipython-input-4-ba33038200aa>:57: static_rnn (from tensorflow.python.ops.rnn) is deprecated and will be removed in a future version.\n",
      "Instructions for updating:\n",
      "Please use `keras.layers.RNN(cell, unroll=True)`, which is equivalent to this API\n",
      "WARNING:tensorflow:From /home/alexandre/Documents/LSTM-Human-Activity-Recognition/venv/lib/python3.6/site-packages/tensorflow_core/python/ops/rnn_cell_impl.py:735: Layer.add_variable (from tensorflow.python.keras.engine.base_layer) is deprecated and will be removed in a future version.\n",
      "Instructions for updating:\n",
      "Please use `layer.add_weight` method instead.\n",
      "WARNING:tensorflow:From /home/alexandre/Documents/LSTM-Human-Activity-Recognition/venv/lib/python3.6/site-packages/tensorflow_core/python/ops/rnn_cell_impl.py:739: calling Zeros.__init__ (from tensorflow.python.ops.init_ops) with dtype is deprecated and will be removed in a future version.\n",
      "Instructions for updating:\n",
      "Call initializer instance with the dtype argument instead of passing it to the constructor\n",
      "WARNING:tensorflow:From <ipython-input-6-0f9f51ea2475>:10: softmax_cross_entropy_with_logits (from tensorflow.python.ops.nn_ops) is deprecated and will be removed in a future version.\n",
      "Instructions for updating:\n",
      "\n",
      "Future major versions of TensorFlow will allow gradients to flow\n",
      "into the labels input on backprop by default.\n",
      "\n",
      "See `tf.nn.softmax_cross_entropy_with_logits_v2`.\n",
      "\n",
      "WARNING:tensorflow:From /home/alexandre/Documents/LSTM-Human-Activity-Recognition/neuraxle_tensorflow/tensorflow_v1.py:80: The name tf.global_variables_initializer is deprecated. Please use tf.compat.v1.global_variables_initializer instead.\n",
      "\n",
      "Batch Loss = 3.521425, Accuracy = 0.18533333333333332\n",
      "Batch Loss = 2.740264, Accuracy = 0.258\n",
      "Batch Loss = 2.427801, Accuracy = 0.436\n",
      "Batch Loss = 2.392420, Accuracy = 0.38333333333333336\n",
      "Batch Loss = 2.336757, Accuracy = 0.3727810650887574\n",
      "Batch Loss = 2.210095, Accuracy = 0.406\n",
      "Batch Loss = 2.081177, Accuracy = 0.4806666666666667\n",
      "Batch Loss = 1.928595, Accuracy = 0.5286666666666666\n",
      "Batch Loss = 1.908575, Accuracy = 0.526\n",
      "Batch Loss = 1.926798, Accuracy = 0.5968934911242604\n",
      "Batch Loss = 1.857221, Accuracy = 0.532\n",
      "Batch Loss = 1.840149, Accuracy = 0.5313333333333333\n",
      "Batch Loss = 1.801555, Accuracy = 0.5926666666666667\n",
      "Batch Loss = 1.740426, Accuracy = 0.5833333333333334\n",
      "Batch Loss = 1.795835, Accuracy = 0.5769230769230769\n",
      "Batch Loss = 1.758576, Accuracy = 0.5346666666666666\n",
      "Batch Loss = 1.689172, Accuracy = 0.582\n",
      "Batch Loss = 1.681654, Accuracy = 0.5986666666666667\n",
      "Batch Loss = 1.631148, Accuracy = 0.608\n",
      "Batch Loss = 1.640699, Accuracy = 0.6161242603550295\n",
      "Batch Loss = 1.642633, Accuracy = 0.556\n",
      "Batch Loss = 1.651147, Accuracy = 0.576\n",
      "Batch Loss = 1.580308, Accuracy = 0.6373333333333333\n",
      "Batch Loss = 1.506242, Accuracy = 0.626\n",
      "Batch Loss = 1.523232, Accuracy = 0.639792899408284\n",
      "Batch Loss = 1.518811, Accuracy = 0.6606666666666666\n",
      "Batch Loss = 1.418894, Accuracy = 0.6646666666666666\n",
      "Batch Loss = 1.394570, Accuracy = 0.7066666666666667\n",
      "Batch Loss = 1.344470, Accuracy = 0.6933333333333334\n",
      "Batch Loss = 1.326845, Accuracy = 0.7078402366863905\n",
      "Batch Loss = 1.364004, Accuracy = 0.6373333333333333\n",
      "Batch Loss = 1.334362, Accuracy = 0.6793333333333333\n",
      "Batch Loss = 1.253492, Accuracy = 0.7186666666666667\n",
      "Batch Loss = 1.297910, Accuracy = 0.6966666666666667\n",
      "Batch Loss = 1.258239, Accuracy = 0.716715976331361\n",
      "Batch Loss = 1.304081, Accuracy = 0.6733333333333333\n",
      "Batch Loss = 1.259897, Accuracy = 0.7026666666666667\n",
      "Batch Loss = 1.208963, Accuracy = 0.7246666666666667\n",
      "Batch Loss = 1.200220, Accuracy = 0.7346666666666667\n",
      "Batch Loss = 1.236549, Accuracy = 0.735207100591716\n",
      "Batch Loss = 1.264173, Accuracy = 0.708\n",
      "Batch Loss = 1.256850, Accuracy = 0.7066666666666667\n",
      "Batch Loss = 1.171723, Accuracy = 0.7506666666666667\n",
      "Batch Loss = 1.232849, Accuracy = 0.7553333333333333\n",
      "Batch Loss = 1.173469, Accuracy = 0.742603550295858\n",
      "Batch Loss = 1.241831, Accuracy = 0.712\n",
      "Batch Loss = 1.205076, Accuracy = 0.728\n",
      "Batch Loss = 1.148691, Accuracy = 0.7706666666666667\n",
      "Batch Loss = 1.141159, Accuracy = 0.7606666666666667\n",
      "Batch Loss = 1.148656, Accuracy = 0.7618343195266272\n",
      "Batch Loss = 1.189209, Accuracy = 0.758\n",
      "Batch Loss = 1.154536, Accuracy = 0.7686666666666667\n",
      "Batch Loss = 1.111722, Accuracy = 0.776\n",
      "Batch Loss = 1.168701, Accuracy = 0.8013333333333333\n",
      "Batch Loss = 1.105878, Accuracy = 0.7455621301775148\n",
      "Batch Loss = 1.244627, Accuracy = 0.7733333333333333\n",
      "Batch Loss = 1.159975, Accuracy = 0.7206666666666667\n",
      "Batch Loss = 1.115686, Accuracy = 0.7486666666666667\n",
      "Batch Loss = 1.177998, Accuracy = 0.7826666666666666\n",
      "Batch Loss = 1.092668, Accuracy = 0.8084319526627219\n",
      "Batch Loss = 1.123520, Accuracy = 0.79\n",
      "Batch Loss = 1.089692, Accuracy = 0.7773333333333333\n",
      "Batch Loss = 1.080361, Accuracy = 0.7906666666666666\n",
      "Batch Loss = 1.055221, Accuracy = 0.8406666666666667\n",
      "Batch Loss = 1.039549, Accuracy = 0.8054733727810651\n",
      "Batch Loss = 1.094885, Accuracy = 0.8086666666666666\n",
      "Batch Loss = 1.111347, Accuracy = 0.7833333333333333\n",
      "Batch Loss = 1.034543, Accuracy = 0.7993333333333333\n",
      "Batch Loss = 0.981616, Accuracy = 0.8593333333333333\n",
      "Batch Loss = 1.002564, Accuracy = 0.8306213017751479\n",
      "WARNING:tensorflow:From /home/alexandre/Documents/LSTM-Human-Activity-Recognition/neuraxle_tensorflow/tensorflow_v1.py:199: The name tf.train.Saver is deprecated. Please use tf.compat.v1.train.Saver instead.\n",
      "\n"
     ]
    },
    {
     "data": {
      "text/plain": [
       "HumanActivityRecognitionPipeline\n",
       "(\n",
       "\tHumanActivityRecognitionPipeline(\n",
       "\tname=HumanActivityRecognitionPipeline,\n",
       "\thyperparameters=HyperparameterSamples()\n",
       ")(\n",
       "\t\t[('OutputTransformerWrapper',\n",
       "  OutputTransformerWrapper(\n",
       "\twrapped=OneHotEncoder(\n",
       "\tname=one_hot_encoded_label,\n",
       "\thyperparameters=HyperparameterSamples()\n",
       "),\n",
       "\thyperparameters=HyperparameterSamples()\n",
       ")),\n",
       " ('ClassificationRNNTensorFlowModel',\n",
       "  ClassificationRNNTensorFlowModel(\n",
       "\tname=ClassificationRNNTensorFlowModel,\n",
       "\thyperparameters=HyperparameterSamples([('n_steps', 128),\n",
       "                       ('n_inputs', 9),\n",
       "                       ('n_hidden', 32),\n",
       "                       ('n_classes', 6),\n",
       "                       ('learning_rate', 0.0025),\n",
       "                       ('lambda_loss_amount', 0.0015),\n",
       "                       ('batch_size', 1500)])\n",
       ")),\n",
       " ('Joiner', Joiner(\n",
       "\tname=Joiner,\n",
       "\thyperparameters=HyperparameterSamples()\n",
       "))]\t\n",
       ")\n",
       ")"
      ]
     },
     "execution_count": 9,
     "metadata": {},
     "output_type": "execute_result"
    }
   ],
   "source": [
    "training_data_count = len(X_train)\n",
    "training_iters = training_data_count * 3\n",
    "\n",
    "pipeline = HumanActivityRecognitionPipeline()\n",
    "\n",
    "no_iter = int(math.floor(training_iters / BATCH_SIZE))\n",
    "for _ in range(no_iter):\n",
    "    pipeline, outputs = pipeline.fit_transform(X_train, y_train)\n",
    "\n",
    "pipeline.save(ExecutionContext(DEFAULT_CACHE_FOLDER))\n",
    "\n",
    "pipeline.teardown()"
   ]
  },
  {
   "cell_type": "markdown",
   "metadata": {},
   "source": [
    "# Serve Rest Api"
   ]
  },
  {
   "cell_type": "code",
   "execution_count": 10,
   "metadata": {},
   "outputs": [
    {
     "name": "stdout",
     "output_type": "stream",
     "text": [
      "Device mapping:\n",
      "/job:localhost/replica:0/task:0/device:XLA_CPU:0 -> device: XLA_CPU device\n",
      "/job:localhost/replica:0/task:0/device:XLA_GPU:0 -> device: XLA_GPU device\n",
      "\n",
      "INFO:tensorflow:Restoring parameters from /home/alexandre/Documents/LSTM-Human-Activity-Recognition/cache/HumanActivityRecognitionPipeline/ClassificationRNNTensorFlowModel/ClassificationRNNTensorFlowModel.ckpt\n"
     ]
    }
   ],
   "source": [
    "pipeline = HumanActivityRecognitionPipeline()\n",
    "\n",
    "pipeline = pipeline.load(ExecutionContext(DEFAULT_CACHE_FOLDER))\n",
    "\n",
    "# pipeline, outputs = pipeline.fit_transform(X_train, y_train)  # we could train further more here for instance."
   ]
  },
  {
   "cell_type": "code",
   "execution_count": null,
   "metadata": {},
   "outputs": [
    {
     "name": "stdout",
     "output_type": "stream",
     "text": [
      " * Serving Flask app \"neuraxle.api.flask\" (lazy loading)\n",
      " * Environment: production\n",
      "   WARNING: This is a development server. Do not use it in a production deployment.\n",
      "   Use a production WSGI server instead.\n",
      " * Debug mode: off\n"
     ]
    },
    {
     "name": "stderr",
     "output_type": "stream",
     "text": [
      " * Running on http://127.0.0.1:5000/ (Press CTRL+C to quit)\n"
     ]
    }
   ],
   "source": [
    "app = FlaskRestApiWrapper(\n",
    "    json_decoder=CustomJSONDecoderFor2DArray(),\n",
    "    wrapped=pipeline,\n",
    "    json_encoder=CustomJSONEncoderOfOutputs()\n",
    ").get_app()\n",
    "\n",
    "app.run(debug=False, port=5000)"
   ]
  }
 ],
 "metadata": {
  "kernelspec": {
   "display_name": "Human Activity Recognition",
   "language": "python",
   "name": "human-activity-recognition"
  },
  "language_info": {
   "codemirror_mode": {
    "name": "ipython",
    "version": 3
   },
   "file_extension": ".py",
   "mimetype": "text/x-python",
   "name": "python",
   "nbconvert_exporter": "python",
   "pygments_lexer": "ipython3",
   "version": "3.6.8"
  }
 },
 "nbformat": 4,
 "nbformat_minor": 2
}
