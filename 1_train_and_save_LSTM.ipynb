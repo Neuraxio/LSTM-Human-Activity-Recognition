{
 "cells": [
  {
   "cell_type": "markdown",
   "metadata": {},
   "source": [
    "# Imports"
   ]
  },
  {
   "cell_type": "code",
   "execution_count": 1,
   "metadata": {},
   "outputs": [],
   "source": [
    "import numpy as np\n",
    "import tensorflow as tf\n",
    "from neuraxle.api import DeepLearningPipeline\n",
    "from neuraxle.base import ExecutionContext, DEFAULT_CACHE_FOLDER\n",
    "from neuraxle.hyperparams.space import HyperparameterSamples\n",
    "from neuraxle.pipeline import Pipeline, MiniBatchSequentialPipeline\n",
    "from neuraxle.steps.numpy import OneHotEncoder\n",
    "from neuraxle.steps.output_handlers import OutputTransformerWrapper\n",
    "from neuraxle.metaopt.auto_ml import Trainer, ValidationSplitter\n",
    "from neuraxle.metaopt.callbacks import ScoringCallback\n",
    "from neuraxle.metaopt.trial import Trial\n",
    "from neuraxle.steps.flow import TrainOnlyWrapper\n",
    "from neuraxle.steps.data import DataShuffler\n",
    "from neuraxle.rest.flask import FlaskRestApiWrapper\n",
    "from steps.custom_json_decoder_for_2darray import CustomJSONDecoderFor2DArray\n",
    "from steps.custom_json_encoder_of_outputs import CustomJSONEncoderOfOutputs\n",
    "\n",
    "from data_reading import load_data\n",
    "from neuraxle_tensorflow.tensorflow_v1 import TensorflowV1ModelStep\n",
    "from plotting import plot_metric\n",
    "from steps.forma_data import FormatData"
   ]
  },
  {
   "cell_type": "markdown",
   "metadata": {},
   "source": [
    "# Load Data"
   ]
  },
  {
   "cell_type": "code",
   "execution_count": 2,
   "metadata": {},
   "outputs": [
    {
     "name": "stdout",
     "output_type": "stream",
     "text": [
      "Some useful info to get an insight on dataset's shape and normalisation:\n",
      "(data_inputs shape, expected_outputs shape, every data input mean, every data input standard deviation)\n",
      "(7352, 128, 9) (7352, 1) 0.10206611 0.40216514\n",
      "The dataset is therefore properly normalised, as expected, but not yet one-hot encoded.\n"
     ]
    }
   ],
   "source": [
    "data_inputs, expected_outputs = load_data()"
   ]
  },
  {
   "cell_type": "markdown",
   "metadata": {},
   "source": [
    "# Create LSTM RNN Tensorflow Graph"
   ]
  },
  {
   "cell_type": "code",
   "execution_count": 3,
   "metadata": {},
   "outputs": [],
   "source": [
    "def create_graph(step: TensorflowV1ModelStep):\n",
    "    # Function returns a tensorflow LSTM (RNN) artificial neural network from given parameters.\n",
    "    # Moreover, two LSTM cells are stacked which adds deepness to the neural network.\n",
    "    # Note, some code of this notebook is inspired from an slightly different\n",
    "    # RNN architecture used on another dataset, some of the credits goes to\n",
    "    # \"aymericdamien\" under the MIT license.\n",
    "    # (NOTE: This step could be greatly optimised by shaping the dataset once\n",
    "    # input shape: (batch_size, n_steps, n_input)\n",
    "\n",
    "    # Graph input/output\n",
    "    data_inputs = tf.placeholder(tf.float32, [None, step.hyperparams['n_steps'], step.hyperparams['n_inputs']],\n",
    "                                 name='data_inputs')\n",
    "    expected_outputs = tf.placeholder(tf.float32, [None, step.hyperparams['n_classes']], name='expected_outputs')\n",
    "\n",
    "    # Graph weights\n",
    "    weights = {\n",
    "        'hidden': tf.Variable(\n",
    "            tf.random_normal([step.hyperparams['n_inputs'], step.hyperparams['n_hidden']])\n",
    "        ),  # Hidden layer weights\n",
    "        'out': tf.Variable(\n",
    "            tf.random_normal([step.hyperparams['n_hidden'], step.hyperparams['n_classes']], mean=1.0)\n",
    "        )\n",
    "    }\n",
    "\n",
    "    biases = {\n",
    "        'hidden': tf.Variable(\n",
    "            tf.random_normal([step.hyperparams['n_hidden']])\n",
    "        ),\n",
    "        'out': tf.Variable(\n",
    "            tf.random_normal([step.hyperparams['n_classes']])\n",
    "        )\n",
    "    }\n",
    "\n",
    "    data_inputs = tf.transpose(\n",
    "        data_inputs,\n",
    "        [1, 0, 2])  # permute n_steps and batch_size\n",
    "\n",
    "    # Reshape to prepare input to hidden activation\n",
    "    data_inputs = tf.reshape(data_inputs, [-1, step.hyperparams['n_inputs']])\n",
    "    # new shape: (n_steps*batch_size, n_input)\n",
    "\n",
    "    # ReLU activation, thanks to Yu Zhao for adding this improvement here:\n",
    "    _X = tf.nn.relu(\n",
    "        tf.matmul(data_inputs, weights['hidden']) + biases['hidden']\n",
    "    )\n",
    "\n",
    "    # Split data because rnn cell needs a list of inputs for the RNN inner loop\n",
    "    _X = tf.split(_X, step.hyperparams['n_steps'], 0)\n",
    "    # new shape: n_steps * (batch_size, n_hidden)\n",
    "\n",
    "    # Define two stacked LSTM cells (two recurrent layers deep) with tensorflow\n",
    "    lstm_cell_1 = tf.contrib.rnn.BasicLSTMCell(step.hyperparams['n_hidden'], forget_bias=1.0, state_is_tuple=True)\n",
    "    lstm_cell_2 = tf.contrib.rnn.BasicLSTMCell(step.hyperparams['n_hidden'], forget_bias=1.0, state_is_tuple=True)\n",
    "    lstm_cells = tf.contrib.rnn.MultiRNNCell([lstm_cell_1, lstm_cell_2], state_is_tuple=True)\n",
    "\n",
    "    # Get LSTM cell output\n",
    "    outputs, states = tf.contrib.rnn.static_rnn(lstm_cells, _X, dtype=tf.float32)\n",
    "\n",
    "    # Get last time step's output feature for a \"many-to-one\" style classifier,\n",
    "    # as in the image describing RNNs at the top of this page\n",
    "    lstm_last_output = outputs[-1]\n",
    "\n",
    "    # Linear activation\n",
    "    return tf.matmul(lstm_last_output, weights['out']) + biases['out']\n",
    "\n",
    "def create_inputs(step: TensorflowV1ModelStep, data_inputs, expected_outputs=None):\n",
    "    # Add additional inputs to be passed inside the feed dict during sess.run\n",
    "    if expected_outputs is None:\n",
    "        # For inference, a default value has to be placed inside the expected outputs placeholder\n",
    "        return {step['expected_outputs']: np.zeros([data_inputs.shape[0], step.hyperparams['n_classes']])}\n",
    "    return {}"
   ]
  },
  {
   "cell_type": "markdown",
   "metadata": {},
   "source": [
    "# Create Optimizer"
   ]
  },
  {
   "cell_type": "code",
   "execution_count": 4,
   "metadata": {},
   "outputs": [],
   "source": [
    "def create_optimizer(step: TensorflowV1ModelStep):\n",
    "    return tf.train.AdamOptimizer(learning_rate=step.hyperparams['learning_rate'])"
   ]
  },
  {
   "cell_type": "markdown",
   "metadata": {},
   "source": [
    "# Create Loss"
   ]
  },
  {
   "cell_type": "code",
   "execution_count": 5,
   "metadata": {},
   "outputs": [],
   "source": [
    "def create_loss(step: TensorflowV1ModelStep):\n",
    "    # Loss, optimizer and evaluation\n",
    "    # L2 loss prevents this overkill neural network to overfit the data\n",
    "    l2 = step.hyperparams['lambda_loss_amount'] * sum(tf.nn.l2_loss(tf_var) for tf_var in tf.trainable_variables())\n",
    "\n",
    "    # Softmax loss\n",
    "    return tf.reduce_mean(\n",
    "        tf.nn.softmax_cross_entropy_with_logits(\n",
    "            labels=step['expected_outputs'],\n",
    "            logits=step['output']\n",
    "        )\n",
    "    ) + l2"
   ]
  },
  {
   "cell_type": "markdown",
   "metadata": {},
   "source": [
    "# Create Neuraxle Pipeline "
   ]
  },
  {
   "cell_type": "code",
   "execution_count": 6,
   "metadata": {},
   "outputs": [],
   "source": [
    "class HumanActivityRecognitionPipeline(MiniBatchSequentialPipeline):\n",
    "    NAME = 'HumanActivityRecognitionPipeline'\n",
    "    N_HIDDEN = 32\n",
    "    N_STEPS = 128\n",
    "    N_INPUTS = 9\n",
    "    LAMBDA_LOSS_AMOUNT = 0.0015\n",
    "    LEARNING_RATE = 0.0025\n",
    "    N_CLASSES = 6\n",
    "    BATCH_SIZE = 1500\n",
    "    EPOCHS = 14\n",
    "\n",
    "    def __init__(self):\n",
    "        super().__init__([\n",
    "            TrainOnlyWrapper(DataShuffler()),\n",
    "            OutputTransformerWrapper(OneHotEncoder(nb_columns=self.N_CLASSES, name='one_hot_encoded_label')),\n",
    "            FormatData(n_classes=self.N_CLASSES),\n",
    "            TensorflowV1ModelStep(\n",
    "                create_graph=create_graph,\n",
    "                create_loss=create_loss,\n",
    "                create_optimizer=create_optimizer,\n",
    "                create_feed_dict=create_inputs\n",
    "            ).set_hyperparams(\n",
    "                HyperparameterSamples({\n",
    "                    'n_steps': self.N_STEPS,  # 128 timesteps per series\n",
    "                    'n_inputs': self.N_INPUTS,  # 9 input parameters per timestep\n",
    "                    'n_hidden': self.N_HIDDEN,  # Hidden layer num of features\n",
    "                    'n_classes': self.N_CLASSES,  # Total classes (should go up, or should go down)\n",
    "                    'learning_rate': self.LEARNING_RATE,\n",
    "                    'lambda_loss_amount': self.LAMBDA_LOSS_AMOUNT,\n",
    "                    'batch_size': self.BATCH_SIZE\n",
    "                })\n",
    "            )\n",
    "        ], batch_size=self.BATCH_SIZE)\n",
    "        self.set_name(self.NAME)"
   ]
  },
  {
   "cell_type": "markdown",
   "metadata": {},
   "source": [
    "# Create scoring metric"
   ]
  },
  {
   "cell_type": "code",
   "execution_count": 7,
   "metadata": {},
   "outputs": [],
   "source": [
    "def accuracy_score_classification(data_inputs, expected_outputs):\n",
    "    accuracy = np.mean(np.argmax(data_inputs, axis=1) == np.argmax(expected_outputs, axis=1))\n",
    "    return accuracy"
   ]
  },
  {
   "cell_type": "markdown",
   "metadata": {},
   "source": [
    "# Train"
   ]
  },
  {
   "cell_type": "code",
   "execution_count": 8,
   "metadata": {},
   "outputs": [
    {
     "name": "stderr",
     "output_type": "stream",
     "text": [
      "/home/alexandre/Documents/LSTM-Human-Activity-Recognition/venv/src/neuraxle/neuraxle/pipeline.py:478: UserWarning: Replacing HumanActivityRecognitionPipeline[Joiner].batch_size by HumanActivityRecognitionPipeline.batch_size.\n",
      "  'Replacing {}[{}].batch_size by {}.batch_size.'.format(self.name, step.name, self.name))\n"
     ]
    },
    {
     "name": "stdout",
     "output_type": "stream",
     "text": [
      "Some useful info to get an insight on dataset's shape and normalisation:\n",
      "(data_inputs shape, expected_outputs shape, every data input mean, every data input standard deviation)\n",
      "(7352, 128, 9) (7352, 1) 0.10206611 0.40216514\n",
      "The dataset is therefore properly normalised, as expected, but not yet one-hot encoded.\n",
      "fitting trial 2/1 split 1/1\n",
      "hyperparams: {\n",
      "    \"TensorflowV1ModelStep__batch_size\": 1500,\n",
      "    \"TensorflowV1ModelStep__lambda_loss_amount\": 0.0015,\n",
      "    \"TensorflowV1ModelStep__learning_rate\": 0.0025,\n",
      "    \"TensorflowV1ModelStep__n_classes\": 6,\n",
      "    \"TensorflowV1ModelStep__n_hidden\": 32,\n",
      "    \"TensorflowV1ModelStep__n_inputs\": 9,\n",
      "    \"TensorflowV1ModelStep__n_steps\": 128\n",
      "}\n",
      "\n",
      "\n",
      "epoch 1/14\n",
      "WARNING:tensorflow:From /home/alexandre/Documents/LSTM-Human-Activity-Recognition/venv/src/neuraxle-tensorflow/neuraxle_tensorflow/tensorflow_v1.py:85: The name tf.variable_scope is deprecated. Please use tf.compat.v1.variable_scope instead.\n",
      "\n",
      "WARNING:tensorflow:From /home/alexandre/Documents/LSTM-Human-Activity-Recognition/venv/src/neuraxle-tensorflow/neuraxle_tensorflow/tensorflow_v1.py:85: The name tf.AUTO_REUSE is deprecated. Please use tf.compat.v1.AUTO_REUSE instead.\n",
      "\n",
      "WARNING:tensorflow:From /home/alexandre/Documents/LSTM-Human-Activity-Recognition/venv/src/neuraxle-tensorflow/neuraxle_tensorflow/tensorflow_v1.py:86: The name tf.Session is deprecated. Please use tf.compat.v1.Session instead.\n",
      "\n",
      "WARNING:tensorflow:From /home/alexandre/Documents/LSTM-Human-Activity-Recognition/venv/src/neuraxle-tensorflow/neuraxle_tensorflow/tensorflow_v1.py:86: The name tf.ConfigProto is deprecated. Please use tf.compat.v1.ConfigProto instead.\n",
      "\n",
      "Device mapping:\n",
      "/job:localhost/replica:0/task:0/device:XLA_CPU:0 -> device: XLA_CPU device\n",
      "/job:localhost/replica:0/task:0/device:XLA_GPU:0 -> device: XLA_GPU device\n",
      "\n",
      "WARNING:tensorflow:\n",
      "The TensorFlow contrib module will not be included in TensorFlow 2.0.\n",
      "For more information, please see:\n",
      "  * https://github.com/tensorflow/community/blob/master/rfcs/20180907-contrib-sunset.md\n",
      "  * https://github.com/tensorflow/addons\n",
      "  * https://github.com/tensorflow/io (for I/O related ops)\n",
      "If you depend on functionality not listed there, please file an issue.\n",
      "\n",
      "WARNING:tensorflow:From <ipython-input-3-8a4fe10c295a>:52: BasicLSTMCell.__init__ (from tensorflow.python.ops.rnn_cell_impl) is deprecated and will be removed in a future version.\n",
      "Instructions for updating:\n",
      "This class is equivalent as tf.keras.layers.LSTMCell, and will be replaced by that in Tensorflow 2.0.\n",
      "WARNING:tensorflow:From <ipython-input-3-8a4fe10c295a>:54: MultiRNNCell.__init__ (from tensorflow.python.ops.rnn_cell_impl) is deprecated and will be removed in a future version.\n",
      "Instructions for updating:\n",
      "This class is equivalent as tf.keras.layers.StackedRNNCells, and will be replaced by that in Tensorflow 2.0.\n",
      "WARNING:tensorflow:From <ipython-input-3-8a4fe10c295a>:57: static_rnn (from tensorflow.python.ops.rnn) is deprecated and will be removed in a future version.\n",
      "Instructions for updating:\n",
      "Please use `keras.layers.RNN(cell, unroll=True)`, which is equivalent to this API\n",
      "WARNING:tensorflow:From /home/alexandre/Documents/LSTM-Human-Activity-Recognition/venv/lib/python3.7/site-packages/tensorflow_core/python/ops/rnn_cell_impl.py:735: Layer.add_variable (from tensorflow.python.keras.engine.base_layer) is deprecated and will be removed in a future version.\n",
      "Instructions for updating:\n",
      "Please use `layer.add_weight` method instead.\n",
      "WARNING:tensorflow:From /home/alexandre/Documents/LSTM-Human-Activity-Recognition/venv/lib/python3.7/site-packages/tensorflow_core/python/ops/rnn_cell_impl.py:739: calling Zeros.__init__ (from tensorflow.python.ops.init_ops) with dtype is deprecated and will be removed in a future version.\n",
      "Instructions for updating:\n",
      "Call initializer instance with the dtype argument instead of passing it to the constructor\n",
      "WARNING:tensorflow:From <ipython-input-5-0f9f51ea2475>:10: softmax_cross_entropy_with_logits (from tensorflow.python.ops.nn_ops) is deprecated and will be removed in a future version.\n",
      "Instructions for updating:\n",
      "\n",
      "Future major versions of TensorFlow will allow gradients to flow\n",
      "into the labels input on backprop by default.\n",
      "\n",
      "See `tf.nn.softmax_cross_entropy_with_logits_v2`.\n",
      "\n",
      "WARNING:tensorflow:From /home/alexandre/Documents/LSTM-Human-Activity-Recognition/venv/src/neuraxle-tensorflow/neuraxle_tensorflow/tensorflow_v1.py:94: The name tf.global_variables_initializer is deprecated. Please use tf.compat.v1.global_variables_initializer instead.\n",
      "\n",
      "main train: 0.5184829572731637\n",
      "main validation: 0.5104261106074343\n",
      "\n",
      "epoch 2/14\n",
      "main train: 0.6426628260521684\n",
      "main validation: 0.5820489573889392\n",
      "\n",
      "epoch 3/14\n",
      "main train: 0.6977116338614179\n",
      "main validation: 0.6545784224841342\n",
      "\n",
      "epoch 4/14\n",
      "main train: 0.7076332213154105\n",
      "main validation: 0.6536718041704442\n",
      "\n",
      "epoch 5/14\n",
      "main train: 0.7068330932949272\n",
      "main validation: 0.6500453309156845\n",
      "\n",
      "epoch 6/14\n",
      "main train: 0.7497199551928309\n",
      "main validation: 0.6772438803263826\n",
      "\n",
      "epoch 7/14\n",
      "main train: 0.7644423107697231\n",
      "main validation: 0.6745240253853128\n",
      "\n",
      "epoch 8/14\n",
      "main train: 0.7849255880940951\n",
      "main validation: 0.7325475974614687\n",
      "\n",
      "epoch 9/14\n",
      "main train: 0.8226916306609058\n",
      "main validation: 0.7733454215775158\n",
      "\n",
      "epoch 10/14\n",
      "main train: 0.8324531925108017\n",
      "main validation: 0.7697189483227561\n",
      "\n",
      "epoch 11/14\n",
      "main train: 0.8516562650024004\n",
      "main validation: 0.7969174977334542\n",
      "\n",
      "epoch 12/14\n",
      "main train: 0.8612578012481997\n",
      "main validation: 0.7914777878513146\n",
      "\n",
      "epoch 13/14\n",
      "main train: 0.8817410785725716\n",
      "main validation: 0.8050770625566637\n",
      "\n",
      "epoch 14/14\n",
      "main train: 0.8919827172347575\n",
      "main validation: 0.8241160471441523\n",
      "success trial 2/1 split 1/1\n",
      "hyperparams: {\n",
      "    \"TensorflowV1ModelStep__batch_size\": 1500,\n",
      "    \"TensorflowV1ModelStep__lambda_loss_amount\": 0.0015,\n",
      "    \"TensorflowV1ModelStep__learning_rate\": 0.0025,\n",
      "    \"TensorflowV1ModelStep__n_classes\": 6,\n",
      "    \"TensorflowV1ModelStep__n_hidden\": 32,\n",
      "    \"TensorflowV1ModelStep__n_inputs\": 9,\n",
      "    \"TensorflowV1ModelStep__n_steps\": 128\n",
      "}\n",
      " score: 0.8241160471441523\n"
     ]
    }
   ],
   "source": [
    "trainer = Trainer(\n",
    "    epochs=HumanActivityRecognitionPipeline.EPOCHS,\n",
    "    validation_splitter=ValidationSplitter(test_size=0.15),\n",
    "    scoring_callback=ScoringCallback(metric_function=accuracy_score_classification, higher_score_is_better=True)\n",
    ")\n",
    "\n",
    "pipeline: MiniBatchSequentialPipeline = HumanActivityRecognitionPipeline()\n",
    "data_inputs, expected_outputs = load_data()\n",
    "trial: Trial = trainer.train(\n",
    "    pipeline=pipeline,\n",
    "    data_inputs=data_inputs,\n",
    "    expected_outputs=expected_outputs\n",
    ")"
   ]
  },
  {
   "cell_type": "markdown",
   "metadata": {},
   "source": [
    "# Visualize Accuracy"
   ]
  },
  {
   "cell_type": "code",
   "execution_count": 9,
   "metadata": {},
   "outputs": [
    {
     "data": {
      "image/png": "[encoded data removed]",
      "text/plain": [
       "<Figure size 432x288 with 1 Axes>"
      ]
     },
     "metadata": {
      "needs_background": "light"
     },
     "output_type": "display_data"
    }
   ],
   "source": [
    "train_values = trial.validation_splits[0].metrics_results['main']['train_values']\n",
    "validation_values = trial.validation_splits[0].metrics_results['main']['validation_values']\n",
    "\n",
    "plot_metric(\n",
    "    train_values=train_values,\n",
    "    validation_values=validation_values,\n",
    "    xlabel='epoch',\n",
    "    ylabel='accuracy',\n",
    "    title='Model Accuracy'\n",
    ")"
   ]
  },
  {
   "cell_type": "markdown",
   "metadata": {},
   "source": [
    "# Visualize Loss"
   ]
  },
  {
   "cell_type": "code",
   "execution_count": 10,
   "metadata": {},
   "outputs": [
    {
     "data": {
      "image/png": "[encoded data removed]",
      "text/plain": [
       "<Figure size 432x288 with 1 Axes>"
      ]
     },
     "metadata": {
      "needs_background": "light"
     },
     "output_type": "display_data"
    }
   ],
   "source": [
    "# Get trained pipeline\n",
    "trained_pipeline = trial.get_trained_pipeline(split_number=0)\n",
    "\n",
    "train_losses = trained_pipeline.get_step_by_name('TensorflowV1ModelStep').train_losses\n",
    "validation_losses = trained_pipeline.get_step_by_name('TensorflowV1ModelStep').test_losses\n",
    "\n",
    "plot_metric(\n",
    "    train_values=train_losses,\n",
    "    validation_values=validation_losses,\n",
    "    xlabel='batch',\n",
    "    ylabel='softmax_cross_entropy_with_logits',\n",
    "    title='softmax_cross_entropy_with_logits'\n",
    ")"
   ]
  },
  {
   "cell_type": "markdown",
   "metadata": {},
   "source": [
    "# Save pipeline"
   ]
  },
  {
   "cell_type": "code",
   "execution_count": 11,
   "metadata": {},
   "outputs": [
    {
     "name": "stdout",
     "output_type": "stream",
     "text": [
      "WARNING:tensorflow:From /home/alexandre/Documents/LSTM-Human-Activity-Recognition/venv/src/neuraxle-tensorflow/neuraxle_tensorflow/tensorflow_v1.py:282: The name tf.train.Saver is deprecated. Please use tf.compat.v1.train.Saver instead.\n",
      "\n",
      "Saved HumanActivityRecognitionPipeline inside : /home/alexandre/Documents/LSTM-Human-Activity-Recognition/cache\n"
     ]
    }
   ],
   "source": [
    "# Save trained pipeline\n",
    "trained_pipeline.save(ExecutionContext(DEFAULT_CACHE_FOLDER), full_dump=True)\n",
    "print('Saved HumanActivityRecognitionPipeline inside : {}'.format(DEFAULT_CACHE_FOLDER))"
   ]
  },
  {
   "cell_type": "markdown",
   "metadata": {},
   "source": [
    "# Serve Rest Api"
   ]
  },
  {
   "cell_type": "code",
   "execution_count": 12,
   "metadata": {},
   "outputs": [
    {
     "name": "stdout",
     "output_type": "stream",
     "text": [
      "Device mapping:\n",
      "/job:localhost/replica:0/task:0/device:XLA_CPU:0 -> device: XLA_CPU device\n",
      "/job:localhost/replica:0/task:0/device:XLA_GPU:0 -> device: XLA_GPU device\n",
      "\n",
      "INFO:tensorflow:Restoring parameters from /home/alexandre/Documents/LSTM-Human-Activity-Recognition/cache/HumanActivityRecognitionPipeline/TensorflowV1ModelStep/TensorflowV1ModelStep.ckpt\n"
     ]
    }
   ],
   "source": [
    "pipeline = ExecutionContext(DEFAULT_CACHE_FOLDER).load(HumanActivityRecognitionPipeline.NAME)"
   ]
  },
  {
   "cell_type": "code",
   "execution_count": null,
   "metadata": {},
   "outputs": [
    {
     "name": "stdout",
     "output_type": "stream",
     "text": [
      " * Serving Flask app \"neuraxle.rest.flask\" (lazy loading)\n",
      " * Environment: production\n",
      "\u001b[31m   WARNING: This is a development server. Do not use it in a production deployment.\u001b[0m\n",
      "\u001b[2m   Use a production WSGI server instead.\u001b[0m\n",
      " * Debug mode: off\n"
     ]
    },
    {
     "name": "stderr",
     "output_type": "stream",
     "text": [
      " * Running on http://127.0.0.1:5000/ (Press CTRL+C to quit)\n",
      "127.0.0.1 - - [25/May/2020 20:25:18] \"\u001b[37mGET / HTTP/1.1\u001b[0m\" 200 -\n"
     ]
    }
   ],
   "source": [
    "app = FlaskRestApiWrapper(\n",
    "    json_decoder=CustomJSONDecoderFor2DArray(),\n",
    "    wrapped=pipeline,\n",
    "    json_encoder=CustomJSONEncoderOfOutputs()\n",
    ").get_app()\n",
    "\n",
    "app.run(debug=False, port=5000)"
   ]
  }
 ],
 "metadata": {
  "kernelspec": {
   "display_name": "lstm_har",
   "language": "python",
   "name": "lstm_har"
  },
  "language_info": {
   "codemirror_mode": {
    "name": "ipython",
    "version": 3
   },
   "file_extension": ".py",
   "mimetype": "text/x-python",
   "name": "python",
   "nbconvert_exporter": "python",
   "pygments_lexer": "ipython3",
   "version": "3.7.6"
  }
 },
 "nbformat": 4,
 "nbformat_minor": 2
}
