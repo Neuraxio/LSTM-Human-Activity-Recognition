{
 "cells": [
  {
   "cell_type": "markdown",
   "metadata": {},
   "source": [
    "# Install "
   ]
  },
  {
   "cell_type": "code",
   "execution_count": 1,
   "metadata": {},
   "outputs": [],
   "source": [
    "import math\n",
    "import os\n",
    "import numpy as np\n",
    "import tensorflow as tf\n",
    "import matplotlib.pyplot as plt\n",
    "import matplotlib\n",
    "\n",
    "from sklearn import metrics\n",
    "\n",
    "import json\n",
    "import urllib\n",
    "\n",
    "from neuraxle.base import NonFittableMixin\n",
    "\n",
    "from data_reading import DATASET_PATH, TRAIN, TEST, X_train_signals_paths, X_test_signals_paths, load_X, load_y, \\\n",
    "    TRAIN_FILE_NAME, TEST_FILE_NAME, LABELS\n",
    "\n",
    "from neuraxle.api.flask import FlaskRestApiWrapper\n",
    "from neuraxle.base import ExecutionContext, DEFAULT_CACHE_FOLDER, ExecutionMode, BaseStep\n",
    "\n",
    "from neuraxle.hyperparams.space import HyperparameterSamples\n",
    "from savers.tensorflow1_step_saver import TensorflowV1StepSaver\n",
    "from neuraxle.steps.encoding import OneHotEncoder\n",
    "\n",
    "from pipeline import HumanActivityRecognitionPipeline, BATCH_SIZE\n",
    "from steps.custom_json_decoder_for_2darray import CustomJSONDecoderFor2DArray\n",
    "from steps.custom_json_encoder_of_outputs import CustomJSONEncoderOfOutputs\n",
    "from neuraxle.pipeline import MiniBatchSequentialPipeline, Joiner\n",
    "from neuraxle.steps.output_handlers import OutputTransformerWrapper\n",
    "\n",
    "# TODO: move in a package neuraxle-tensorflow \n",
    "from savers.tensorflow1_step_saver import TensorflowV1StepSaver\n",
    "from neuraxle.pipeline import Pipeline\n"
   ]
  },
  {
   "cell_type": "markdown",
   "metadata": {},
   "source": [
    "# Read Data"
   ]
  },
  {
   "cell_type": "code",
   "execution_count": 2,
   "metadata": {},
   "outputs": [
    {
     "name": "stdout",
     "output_type": "stream",
     "text": [
      "Some useful info to get an insight on dataset's shape and normalisation:\n",
      "(X shape, y shape, every X's mean, every X's standard deviation)\n",
      "(2947, 128, 9) (2947, 1) 0.09913992 0.39567086\n",
      "The dataset is therefore properly normalised, as expected, but not yet one-hot encoded.\n"
     ]
    }
   ],
   "source": [
    "DATA_PATH = \"data/\"\n",
    "DATASET_PATH = DATA_PATH + \"UCI HAR Dataset/\"\n",
    "\n",
    "# Load \"X\" (the neural network's training and testing inputs)\n",
    "\n",
    "# X_train = load_X(X_train_signals_paths)\n",
    "X_test = load_X(X_test_signals_paths)\n",
    "\n",
    "# Load \"y\" (the neural network's training and testing outputs)\n",
    "\n",
    "# y_train_path = os.path.join(DATASET_PATH, TRAIN, TRAIN_FILE_NAME)\n",
    "y_test_path = os.path.join(DATASET_PATH, TEST, TEST_FILE_NAME)\n",
    "\n",
    "# y_train = load_y(y_train_path)\n",
    "y_test = load_y(y_test_path)\n",
    "\n",
    "print(\"Some useful info to get an insight on dataset's shape and normalisation:\")\n",
    "print(\"(X shape, y shape, every X's mean, every X's standard deviation)\")\n",
    "print(X_test.shape, y_test.shape, np.mean(X_test), np.std(X_test))\n",
    "print(\"The dataset is therefore properly normalised, as expected, but not yet one-hot encoded.\")"
   ]
  },
  {
   "cell_type": "markdown",
   "metadata": {},
   "source": [
    "# API Caller "
   ]
  },
  {
   "cell_type": "code",
   "execution_count": 3,
   "metadata": {},
   "outputs": [],
   "source": [
    "class APICaller(NonFittableMixin, BaseStep):\n",
    "    def __init__(self, url):\n",
    "        BaseStep.__init__(self)\n",
    "        self.url = url\n",
    "        \n",
    "    def transform(self, data_inputs):\n",
    "        data = json.dumps(data_inputs.tolist()).encode('utf8')\n",
    "        req = urllib.request.Request(\n",
    "            'http://127.0.0.1:5000/',\n",
    "            method=\"GET\",\n",
    "            headers={'content-type': 'application/json'},\n",
    "            data=data\n",
    "        )\n",
    "        response = urllib.request.urlopen(req)\n",
    "        test_predictions = json.loads(response.read())\n",
    "        return np.array(test_predictions['predictions'])"
   ]
  },
  {
   "cell_type": "markdown",
   "metadata": {},
   "source": [
    "# Call Rest Api "
   ]
  },
  {
   "cell_type": "code",
   "execution_count": 4,
   "metadata": {},
   "outputs": [
    {
     "name": "stdout",
     "output_type": "stream",
     "text": [
      "[[ 1.18599892e+00  5.41315079e-01  5.01255989e-02  5.32620525e+00\n",
      "   7.96708488e+00  1.05193663e+00]\n",
      " [ 1.32715702e+00  5.79396248e-01  1.43231392e-01  5.13996363e+00\n",
      "   8.01558208e+00  9.53553915e-01]\n",
      " [ 1.38326144e+00  6.24054670e-01  1.96704865e-01  5.10453653e+00\n",
      "   8.03478718e+00  9.46316242e-01]\n",
      " ...\n",
      " [-2.59126878e+00  1.63446629e+00 -1.15046430e+00 -4.65883112e+00\n",
      "  -6.26892710e+00 -4.49010229e+00]\n",
      " [-4.39656258e+00 -5.00252008e-01 -4.03625870e+00 -6.34975433e+00\n",
      "  -6.50696850e+00 -4.80641174e+00]\n",
      " [ 5.38370669e-01  2.58066088e-01 -1.84605551e+00 -2.31253886e+00\n",
      "  -5.79619408e-03 -4.39832497e+00]]\n"
     ]
    }
   ],
   "source": [
    "p = Pipeline([\n",
    "    APICaller(url=\"http://localhost:5000/\")\n",
    "])\n",
    "y_pred = p.transform(X_test)\n",
    "print(y_pred)\n",
    "# TODO: \n",
    "# y_test = y_test.argmax(1) ???? is this already made?"
   ]
  },
  {
   "cell_type": "markdown",
   "metadata": {},
   "source": [
    "# Plot "
   ]
  },
  {
   "cell_type": "code",
   "execution_count": 5,
   "metadata": {},
   "outputs": [
    {
     "name": "stderr",
     "output_type": "stream",
     "text": [
      "findfont: Font family ['Bitstream Vera Sans'] not found. Falling back to DejaVu Sans.\n",
      "findfont: Font family ['Bitstream Vera Sans'] not found. Falling back to DejaVu Sans.\n",
      "findfont: Font family ['Bitstream Vera Sans'] not found. Falling back to DejaVu Sans.\n"
     ]
    },
    {
     "name": "stdout",
     "output_type": "stream",
     "text": [
      "\n",
      "Precision: 83.53261074023052%\n",
      "Recall: 82.62639972853749%\n",
      "f1_score: 82.6189023152726%\n",
      "\n",
      "Confusion Matrix:\n",
      "[[439  10  45   0   2   0]\n",
      " [103 320  45   1   1   1]\n",
      " [ 47  23 347   1   2   0]\n",
      " [  8   6   0 361 116   0]\n",
      " [  6   2   0  66 458   0]\n",
      " [  0   2  25   0   0 510]]\n",
      "\n",
      "Confusion matrix (normalised to % of total test data):\n",
      "[[14.896504    0.3393281   1.5269766   0.          0.06786563  0.        ]\n",
      " [ 3.4950798  10.8585      1.5269766   0.03393281  0.03393281  0.03393281]\n",
      " [ 1.5948422   0.7804547  11.774686    0.03393281  0.06786563  0.        ]\n",
      " [ 0.2714625   0.20359688  0.         12.249745    3.936206    0.        ]\n",
      " [ 0.20359688  0.06786563  0.          2.2395658  15.541228    0.        ]\n",
      " [ 0.          0.06786563  0.8483203   0.          0.         17.305735  ]]\n",
      "Note: training and testing data is not equally distributed amongst classes, \n",
      "so it is normal that more than a 6th of the data is correctly classifier in the last category.\n"
     ]
    },
    {
     "data": {
      "image/png": "[encoded data removed]",
      "text/plain": [
       "<Figure size 864x864 with 2 Axes>"
      ]
     },
     "metadata": {
      "needs_background": "light"
     },
     "output_type": "display_data"
    }
   ],
   "source": [
    "# (Inline plots: )\n",
    "%matplotlib inline\n",
    "\n",
    "font = {\n",
    "    'family' : 'Bitstream Vera Sans',\n",
    "    'weight' : 'bold',\n",
    "    'size'   : 18\n",
    "}\n",
    "matplotlib.rc('font', **font)\n",
    "\n",
    "# Results\n",
    "\n",
    "predictions = y_pred.argmax(1)\n",
    "n_classes = 6\n",
    "\n",
    "print(\"\")\n",
    "print(\"Precision: {}%\".format(100*metrics.precision_score(y_test, predictions, average=\"weighted\")))\n",
    "print(\"Recall: {}%\".format(100*metrics.recall_score(y_test, predictions, average=\"weighted\")))\n",
    "print(\"f1_score: {}%\".format(100*metrics.f1_score(y_test, predictions, average=\"weighted\")))\n",
    "\n",
    "print(\"\")\n",
    "print(\"Confusion Matrix:\")\n",
    "confusion_matrix = metrics.confusion_matrix(y_test, predictions)\n",
    "print(confusion_matrix)\n",
    "normalised_confusion_matrix = np.array(confusion_matrix, dtype=np.float32)/np.sum(confusion_matrix)*100\n",
    "\n",
    "print(\"\")\n",
    "print(\"Confusion matrix (normalised to % of total test data):\")\n",
    "print(normalised_confusion_matrix)\n",
    "print(\"Note: training and testing data is not equally distributed amongst classes, \")\n",
    "print(\"so it is normal that more than a 6th of the data is correctly classifier in the last category.\")\n",
    "\n",
    "# Plot Results:\n",
    "width = 12\n",
    "height = 12\n",
    "plt.figure(figsize=(width, height))\n",
    "plt.imshow(\n",
    "    normalised_confusion_matrix,\n",
    "    interpolation='nearest',\n",
    "    cmap=plt.cm.rainbow\n",
    ")\n",
    "plt.title(\"Confusion matrix \\n(normalised to % of total test data)\")\n",
    "plt.colorbar()\n",
    "tick_marks = np.arange(n_classes)\n",
    "plt.xticks(tick_marks, LABELS, rotation=90)\n",
    "plt.yticks(tick_marks, LABELS)\n",
    "plt.tight_layout()\n",
    "plt.ylabel('True label')\n",
    "plt.xlabel('Predicted label')\n",
    "plt.show()"
   ]
  },
  {
   "cell_type": "code",
   "execution_count": 6,
   "metadata": {},
   "outputs": [
    {
     "data": {
      "text/plain": [
       "Pipeline\n",
       "(\n",
       "\tPipeline(\n",
       "\tname=Pipeline,\n",
       "\thyperparameters=HyperparameterSamples()\n",
       ")(\n",
       "\t\t[('APICaller',\n",
       "  APICaller(\n",
       "\tname=APICaller,\n",
       "\thyperparameters=HyperparameterSamples()\n",
       "))]\t\n",
       ")\n",
       ")"
      ]
     },
     "execution_count": 6,
     "metadata": {},
     "output_type": "execute_result"
    }
   ],
   "source": [
    "p.teardown()"
   ]
  }
 ],
 "metadata": {
  "kernelspec": {
   "display_name": "Human Activity Recognition",
   "language": "python",
   "name": "human-activity-recognition"
  },
  "language_info": {
   "codemirror_mode": {
    "name": "ipython",
    "version": 3
   },
   "file_extension": ".py",
   "mimetype": "text/x-python",
   "name": "python",
   "nbconvert_exporter": "python",
   "pygments_lexer": "ipython3",
   "version": "3.6.8"
  }
 },
 "nbformat": 4,
 "nbformat_minor": 2
}
